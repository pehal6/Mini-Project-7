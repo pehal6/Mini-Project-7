{
  "nbformat": 4,
  "nbformat_minor": 0,
  "metadata": {
    "colab": {
      "provenance": []
    },
    "kernelspec": {
      "name": "python3",
      "display_name": "Python 3"
    },
    "language_info": {
      "name": "python"
    }
  },
  "cells": [
    {
      "cell_type": "markdown",
      "source": [
        "# Marks Adding"
      ],
      "metadata": {
        "id": "5teV62kihQot"
      }
    },
    {
      "cell_type": "markdown",
      "source": [
        "### Write a Python program to add marks for each roll number from a CSV file and save the total marks in a new file."
      ],
      "metadata": {
        "id": "1rJMaXB2g6bW"
      }
    },
    {
      "cell_type": "code",
      "execution_count": 1,
      "metadata": {
        "colab": {
          "base_uri": "https://localhost:8080/"
        },
        "id": "d_OwfPcmgpY1",
        "outputId": "7d1d6881-aea6-41af-be84-cb8f8dae72f3"
      },
      "outputs": [
        {
          "output_type": "stream",
          "name": "stdout",
          "text": [
            "      Roll Num  Marks\n",
            "0    102003542      4\n",
            "1    102003640      5\n",
            "2    102003725      5\n",
            "3    102003307      4\n",
            "4    102003458      5\n",
            "..         ...    ...\n",
            "395  102017150      4\n",
            "396  102003690      1\n",
            "397  102003149      2\n",
            "398  102003089      1\n",
            "399  102180347      1\n",
            "\n",
            "[400 rows x 2 columns]\n"
          ]
        }
      ],
      "source": [
        "import pandas as pd\n",
        "\n",
        "df = pd.read_csv(\"Mini Project - Marks Adding (1).csv\")\n",
        "\n",
        "marks_dict = {}\n",
        "for i in range(len(df)):\n",
        "    roll = df.loc[i, \"Roll Num\"]\n",
        "    mark = df.loc[i, \"Marks\"]\n",
        "    if roll in marks_dict:\n",
        "        marks_dict[roll] += mark\n",
        "    else:\n",
        "        marks_dict[roll] = mark\n",
        "\n",
        "output = pd.DataFrame(list(marks_dict.items()), columns=[\"Roll Num\", \"Marks\"])\n",
        "print(output)\n",
        "\n",
        "output.to_csv(\"Output_Marks.csv\", index=False)\n"
      ]
    }
  ]
}